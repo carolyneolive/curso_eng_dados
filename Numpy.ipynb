{
  "nbformat": 4,
  "nbformat_minor": 0,
  "metadata": {
    "colab": {
      "provenance": [],
      "authorship_tag": "ABX9TyO7Dssgdxw+ZtBKxxzjv3sn",
      "include_colab_link": true
    },
    "kernelspec": {
      "name": "python3",
      "display_name": "Python 3"
    },
    "language_info": {
      "name": "python"
    }
  },
  "cells": [
    {
      "cell_type": "markdown",
      "metadata": {
        "id": "view-in-github",
        "colab_type": "text"
      },
      "source": [
        "<a href=\"https://colab.research.google.com/github/carolyneolive/curso_eng_dados/blob/main/Numpy.ipynb\" target=\"_parent\"><img src=\"https://colab.research.google.com/assets/colab-badge.svg\" alt=\"Open In Colab\"/></a>"
      ]
    },
    {
      "cell_type": "markdown",
      "source": [
        "\n",
        "\n",
        "# **Trilhando Caminhos em Ciência de Dados**\n",
        "1.1 Numpy\n"
      ],
      "metadata": {
        "id": "IfbR9-sAnIVs"
      }
    },
    {
      "cell_type": "code",
      "execution_count": 2,
      "metadata": {
        "id": "L2s6K4Mzm5fz"
      },
      "outputs": [],
      "source": [
        "# Importando a biblioteca numpy\n",
        "import numpy as np"
      ]
    },
    {
      "cell_type": "code",
      "source": [
        "# Criando um array de 1 dimensão\n",
        "\n",
        "one_dim = np.array([0,1,2,3])"
      ],
      "metadata": {
        "id": "RZC-igP4nYEk"
      },
      "execution_count": 3,
      "outputs": []
    },
    {
      "cell_type": "code",
      "source": [
        "# Imprimindo o tipo de objeto\n",
        "type(one_dim)"
      ],
      "metadata": {
        "colab": {
          "base_uri": "https://localhost:8080/"
        },
        "id": "zYxhFuodnnF2",
        "outputId": "4ae1ae7d-c4c2-4b49-a451-6b31a50219e4"
      },
      "execution_count": 4,
      "outputs": [
        {
          "output_type": "execute_result",
          "data": {
            "text/plain": [
              "numpy.ndarray"
            ]
          },
          "metadata": {},
          "execution_count": 4
        }
      ]
    },
    {
      "cell_type": "code",
      "source": [
        "# Imprimindo um array da lista\n",
        "one_dim.ndim"
      ],
      "metadata": {
        "colab": {
          "base_uri": "https://localhost:8080/"
        },
        "id": "tiSys_a7nrqP",
        "outputId": "18aa4431-29f9-4e1f-b966-8e25483f9379"
      },
      "execution_count": 5,
      "outputs": [
        {
          "output_type": "execute_result",
          "data": {
            "text/plain": [
              "1"
            ]
          },
          "metadata": {},
          "execution_count": 5
        }
      ]
    },
    {
      "cell_type": "code",
      "source": [
        "# Criando um array de 2 dimensões\n",
        "two_dim = np.array([(0,1,2,3),(4,5,6,7)])"
      ],
      "metadata": {
        "id": "AMvMEqXWn4Aq"
      },
      "execution_count": 7,
      "outputs": []
    },
    {
      "cell_type": "code",
      "source": [
        "# Imprimindo um array com as 2 dimensões\n",
        "print(two_dim)"
      ],
      "metadata": {
        "colab": {
          "base_uri": "https://localhost:8080/"
        },
        "id": "ev9AUF7PoYlM",
        "outputId": "2567721e-3edd-438f-de21-f77426ec39ab"
      },
      "execution_count": 9,
      "outputs": [
        {
          "output_type": "stream",
          "name": "stdout",
          "text": [
            "[[0 1 2 3]\n",
            " [4 5 6 7]]\n"
          ]
        }
      ]
    },
    {
      "cell_type": "code",
      "source": [
        "# Cria um array aleatórios.\n",
        "# Um array de 5 linhas e duas dimensões.\n",
        "np.random.random((2,4))\n"
      ],
      "metadata": {
        "colab": {
          "base_uri": "https://localhost:8080/"
        },
        "id": "27mVkDVbodJ1",
        "outputId": "e14bc2ef-0c25-4f65-dc0a-315751fe99e3"
      },
      "execution_count": 10,
      "outputs": [
        {
          "output_type": "execute_result",
          "data": {
            "text/plain": [
              "array([[0.76686649, 0.71557757, 0.90149608, 0.20206   ],\n",
              "       [0.01625254, 0.52038567, 0.4064319 , 0.75326584]])"
            ]
          },
          "metadata": {},
          "execution_count": 10
        }
      ]
    },
    {
      "cell_type": "code",
      "source": [
        "# Cria um array com valotes esparsos iniciando com o valor 10, menor que 50 e incrementando de 5 em 5\n",
        "# tipo um for em numpy\n",
        "np.arange(10,50,5)"
      ],
      "metadata": {
        "colab": {
          "base_uri": "https://localhost:8080/"
        },
        "id": "kRoxTJnro8-u",
        "outputId": "80fdfb98-1e23-4b41-e0d9-1f5ff65f5cf6"
      },
      "execution_count": 11,
      "outputs": [
        {
          "output_type": "execute_result",
          "data": {
            "text/plain": [
              "array([10, 15, 20, 25, 30, 35, 40, 45])"
            ]
          },
          "metadata": {},
          "execution_count": 11
        }
      ]
    },
    {
      "cell_type": "code",
      "source": [
        "# Cria um array linear de 0 a 2 de máximo 9 elementos\n",
        "np.linspace(0,2,9)"
      ],
      "metadata": {
        "colab": {
          "base_uri": "https://localhost:8080/"
        },
        "id": "AwhE7uvhpagn",
        "outputId": "8a91b157-0101-486f-ac75-8c31ec856866"
      },
      "execution_count": 12,
      "outputs": [
        {
          "output_type": "execute_result",
          "data": {
            "text/plain": [
              "array([0.  , 0.25, 0.5 , 0.75, 1.  , 1.25, 1.5 , 1.75, 2.  ])"
            ]
          },
          "metadata": {},
          "execution_count": 12
        }
      ]
    },
    {
      "cell_type": "code",
      "source": [
        "# Cria um array de valores zero\n",
        "# Cria um array com 3 linhas e 4 dimensões\n",
        "np.zeros((2,3))"
      ],
      "metadata": {
        "colab": {
          "base_uri": "https://localhost:8080/"
        },
        "id": "T2rvmN-Lpl2J",
        "outputId": "4f11052d-b62c-460d-fa8e-655479286e65"
      },
      "execution_count": 13,
      "outputs": [
        {
          "output_type": "execute_result",
          "data": {
            "text/plain": [
              "array([[0., 0., 0.],\n",
              "       [0., 0., 0.]])"
            ]
          },
          "metadata": {},
          "execution_count": 13
        }
      ]
    },
    {
      "cell_type": "markdown",
      "source": [
        "#**Diferenças entre Listas e Arrays**"
      ],
      "metadata": {
        "id": "siGCAE5Dq2U8"
      }
    },
    {
      "cell_type": "markdown",
      "source": [
        "# Listas"
      ],
      "metadata": {
        "id": "TAumNDSOq-XM"
      }
    },
    {
      "cell_type": "code",
      "source": [
        "# Criando uma lista em Python\n",
        "lista = [1,2,3]"
      ],
      "metadata": {
        "id": "cogAiaw6p4GG"
      },
      "execution_count": 36,
      "outputs": []
    },
    {
      "cell_type": "code",
      "source": [
        "# Imprimindo a lista\n",
        "lista"
      ],
      "metadata": {
        "colab": {
          "base_uri": "https://localhost:8080/"
        },
        "id": "5P0L9LBkrQO6",
        "outputId": "d73db295-ea8c-4e13-ad79-6c4812bd980e"
      },
      "execution_count": 37,
      "outputs": [
        {
          "output_type": "execute_result",
          "data": {
            "text/plain": [
              "[1, 2, 3]"
            ]
          },
          "metadata": {},
          "execution_count": 37
        }
      ]
    },
    {
      "cell_type": "code",
      "source": [
        "# Multiplicar valores da lista por 2\n",
        "# Obs: ele for uma variável do tipo lista ela não multiplica apenas duplica os valores\n",
        "lista * 2"
      ],
      "metadata": {
        "colab": {
          "base_uri": "https://localhost:8080/"
        },
        "id": "PKLD9uLkrTEK",
        "outputId": "db2524f2-c418-4496-8684-3cabb893c91e"
      },
      "execution_count": 38,
      "outputs": [
        {
          "output_type": "execute_result",
          "data": {
            "text/plain": [
              "[1, 2, 3, 1, 2, 3]"
            ]
          },
          "metadata": {},
          "execution_count": 38
        }
      ]
    },
    {
      "cell_type": "code",
      "source": [
        "# Calcular IMC de pessoas\n",
        "pesos = [67,75,120,90]\n",
        "altura = [1.68,1.54,1.75,1.32]"
      ],
      "metadata": {
        "id": "n61MvANTrbcr"
      },
      "execution_count": 28,
      "outputs": []
    },
    {
      "cell_type": "code",
      "source": [
        "# Faz o calculo usando as listas\n",
        "# Não é possivel fazer essa operação com lista, apenas com interiro. Como\n",
        "# o Numpy é um biblioteca para operações matemática fica mais simples.\n",
        "pesos / altura ** 2"
      ],
      "metadata": {
        "id": "St0kT9Qfrti5"
      },
      "execution_count": 29,
      "outputs": []
    },
    {
      "cell_type": "code",
      "source": [
        "# As lista aceita dados heterogêneos\n",
        "lista = [1,3,'Casa', True]"
      ],
      "metadata": {
        "id": "5Jd6CkaWuMwb"
      },
      "execution_count": 39,
      "outputs": []
    },
    {
      "cell_type": "code",
      "source": [
        "# Duplicar a lista\n",
        "lista * 2"
      ],
      "metadata": {
        "colab": {
          "base_uri": "https://localhost:8080/"
        },
        "id": "uD4Wgy4LurfA",
        "outputId": "c3ecd8df-887d-4f3d-cb0a-51acb6b97cbb"
      },
      "execution_count": 40,
      "outputs": [
        {
          "output_type": "execute_result",
          "data": {
            "text/plain": [
              "[1, 3, 'Casa', True, 1, 3, 'Casa', True]"
            ]
          },
          "metadata": {},
          "execution_count": 40
        }
      ]
    },
    {
      "cell_type": "markdown",
      "source": [
        "Operações matemáticas"
      ],
      "metadata": {
        "id": "3y78kAJsxkH3"
      }
    },
    {
      "cell_type": "code",
      "source": [
        "# Criar um lista a partir de uma estrutura de repetição\n",
        "lista = [i for i in range(10, 50,5)]\n",
        "lista"
      ],
      "metadata": {
        "colab": {
          "base_uri": "https://localhost:8080/"
        },
        "id": "mZx1J506wSMk",
        "outputId": "a4e6d0ab-1ea9-49ea-dbda-03fbb7f0c90c"
      },
      "execution_count": 42,
      "outputs": [
        {
          "output_type": "execute_result",
          "data": {
            "text/plain": [
              "[10, 15, 20, 25, 30, 35, 40, 45]"
            ]
          },
          "metadata": {},
          "execution_count": 42
        }
      ]
    },
    {
      "cell_type": "code",
      "source": [
        "# Estrturura de repetiação a partir da lista\n",
        "soma  = 0\n",
        "for i in lista:\n",
        "  soma+=i\n",
        "\n",
        "print('Média:' + str(soma/len(lista)))"
      ],
      "metadata": {
        "colab": {
          "base_uri": "https://localhost:8080/"
        },
        "id": "Fzx07USvwmb0",
        "outputId": "5d8e1122-82de-4f38-f93f-f78272495f92"
      },
      "execution_count": 44,
      "outputs": [
        {
          "output_type": "stream",
          "name": "stdout",
          "text": [
            "Média:27.5\n"
          ]
        }
      ]
    },
    {
      "cell_type": "markdown",
      "source": [
        "Acessando elementos"
      ],
      "metadata": {
        "id": "OqVmk78lxuHT"
      }
    },
    {
      "cell_type": "code",
      "source": [
        "# Acesso aos elementos da lista de acordo com sua posição\n",
        "lista[1]\n"
      ],
      "metadata": {
        "colab": {
          "base_uri": "https://localhost:8080/"
        },
        "id": "yJfUtJKTxy2_",
        "outputId": "9bac8d3d-3800-4540-c9cf-306b5ba24bc2"
      },
      "execution_count": 48,
      "outputs": [
        {
          "output_type": "execute_result",
          "data": {
            "text/plain": [
              "15"
            ]
          },
          "metadata": {},
          "execution_count": 48
        }
      ]
    },
    {
      "cell_type": "code",
      "source": [
        "# Acessar todos elementos maior que 20, não é possível em uma lista visto que\n",
        "#  ele não tem suporte para operacões lógicas\n",
        "lista[lista>20]"
      ],
      "metadata": {
        "id": "tKlqUfT6yLvc"
      },
      "execution_count": 51,
      "outputs": []
    },
    {
      "cell_type": "markdown",
      "source": [
        "#**Arrays**"
      ],
      "metadata": {
        "id": "d-Ub4Eqlr24F"
      }
    },
    {
      "cell_type": "code",
      "source": [
        "# Transforme a variavel lista em um array Numpy\n",
        "lista = np.array(lista)"
      ],
      "metadata": {
        "id": "0PHtu-tHr0Z9"
      },
      "execution_count": 20,
      "outputs": []
    },
    {
      "cell_type": "code",
      "source": [
        "# Imprimindo o tipo de objeto\n",
        "type(lista)"
      ],
      "metadata": {
        "colab": {
          "base_uri": "https://localhost:8080/"
        },
        "id": "ZwihFhkjr9VQ",
        "outputId": "a464cf2e-7783-4948-c887-54ce9b56a2f1"
      },
      "execution_count": 21,
      "outputs": [
        {
          "output_type": "execute_result",
          "data": {
            "text/plain": [
              "numpy.ndarray"
            ]
          },
          "metadata": {},
          "execution_count": 21
        }
      ]
    },
    {
      "cell_type": "code",
      "source": [
        "# Multiplicando cada elemento por 2\n",
        "lista * 2"
      ],
      "metadata": {
        "colab": {
          "base_uri": "https://localhost:8080/"
        },
        "id": "jA81O0ePsZsu",
        "outputId": "226e5409-6b40-4152-8a95-1ca47e1574b4"
      },
      "execution_count": 22,
      "outputs": [
        {
          "output_type": "execute_result",
          "data": {
            "text/plain": [
              "array([2, 4, 6])"
            ]
          },
          "metadata": {},
          "execution_count": 22
        }
      ]
    },
    {
      "cell_type": "code",
      "source": [
        "# Transforme pesos = [67,75,120,90] e altura = [1.68,1.54,1.75,1.32] em array numpy\n",
        "pesos = np.array(pesos)\n",
        "altura = np.array(altura)"
      ],
      "metadata": {
        "id": "2hu1cHU8shD9"
      },
      "execution_count": 23,
      "outputs": []
    },
    {
      "cell_type": "code",
      "source": [
        "  # Imprime o calculo de cada valor\n",
        "  pesos /altura **2"
      ],
      "metadata": {
        "colab": {
          "base_uri": "https://localhost:8080/"
        },
        "id": "J64bK6jYs2I-",
        "outputId": "bd760222-3464-4403-961a-689a63ea3a2a"
      },
      "execution_count": 24,
      "outputs": [
        {
          "output_type": "execute_result",
          "data": {
            "text/plain": [
              "array([23.73866213, 31.62421994, 39.18367347, 51.65289256])"
            ]
          },
          "metadata": {},
          "execution_count": 24
        }
      ]
    },
    {
      "cell_type": "code",
      "source": [
        "# Criando Numpy com dados heterogêneos\n",
        "a = np.array([1,3,'Casa', True])"
      ],
      "metadata": {
        "id": "jbfN-30Ss-TP"
      },
      "execution_count": 32,
      "outputs": []
    },
    {
      "cell_type": "code",
      "source": [
        "# Numpy aceita apenas dados homogêneos para maniputação dos dados\n",
        "# Não é possível visto que o Munpy faz operacões com cada um dos seus elementos\n",
        "a * 2"
      ],
      "metadata": {
        "id": "3nuHg_ebvJL5"
      },
      "execution_count": 34,
      "outputs": []
    },
    {
      "cell_type": "code",
      "source": [
        "# Repeti o valor do array 2 vezes\n",
        "np.tile(a, 2)"
      ],
      "metadata": {
        "colab": {
          "base_uri": "https://localhost:8080/"
        },
        "id": "oJkUeS3KvcRW",
        "outputId": "79c03353-8444-4595-d503-5fb9c4c6fc8e"
      },
      "execution_count": 35,
      "outputs": [
        {
          "output_type": "execute_result",
          "data": {
            "text/plain": [
              "array(['1', '3', 'Casa', 'True', '1', '3', 'Casa', 'True'], dtype='<U21')"
            ]
          },
          "metadata": {},
          "execution_count": 35
        }
      ]
    },
    {
      "cell_type": "markdown",
      "source": [
        "Operações matemáticas\n"
      ],
      "metadata": {
        "id": "cA95OZHAxahq"
      }
    },
    {
      "cell_type": "code",
      "source": [
        "# Arange é o for do Numpy\n",
        "n_array = np.arange(10, 50,5)"
      ],
      "metadata": {
        "id": "DrKSZ_Myv_tH"
      },
      "execution_count": 45,
      "outputs": []
    },
    {
      "cell_type": "code",
      "source": [
        "# Numpy já temos a função mean()\n",
        "n_array.mean()"
      ],
      "metadata": {
        "colab": {
          "base_uri": "https://localhost:8080/"
        },
        "id": "pJHcz4VUxOS-",
        "outputId": "5c3e0087-4b1d-418d-c6a5-979ae27c3cd9"
      },
      "execution_count": 46,
      "outputs": [
        {
          "output_type": "execute_result",
          "data": {
            "text/plain": [
              "27.5"
            ]
          },
          "metadata": {},
          "execution_count": 46
        }
      ]
    },
    {
      "cell_type": "code",
      "source": [
        "# Acesso aos elementos no Numpy de acordo com sua posição\n",
        "n_array[1]"
      ],
      "metadata": {
        "id": "VVPlTy_pxWf_"
      },
      "execution_count": null,
      "outputs": []
    },
    {
      "cell_type": "code",
      "source": [
        "# Acessar todos elementos maior que 20.\n",
        "n_array[n_array>20]"
      ],
      "metadata": {
        "colab": {
          "base_uri": "https://localhost:8080/"
        },
        "id": "Spz08eM_yZVd",
        "outputId": "e79bb0ca-1da3-4f82-9e3d-8699ef9ebff0"
      },
      "execution_count": 52,
      "outputs": [
        {
          "output_type": "execute_result",
          "data": {
            "text/plain": [
              "array([25, 30, 35, 40, 45])"
            ]
          },
          "metadata": {},
          "execution_count": 52
        }
      ]
    },
    {
      "cell_type": "markdown",
      "source": [
        "***Métodos e Atributos Úteis ***"
      ],
      "metadata": {
        "id": "12SY4be63UkV"
      }
    },
    {
      "cell_type": "code",
      "source": [
        "# Métodos disponíveis (digite o . pressione ctrl + enter )\n",
        "# (todos os tipos de operações que posso usar neste array)\n",
        "two_dim"
      ],
      "metadata": {
        "id": "kPntulGz3ayf"
      },
      "execution_count": null,
      "outputs": []
    },
    {
      "cell_type": "code",
      "source": [
        "# Retorna a forma do array no formato linhas e colunas\n",
        "two_dim.shape"
      ],
      "metadata": {
        "colab": {
          "base_uri": "https://localhost:8080/"
        },
        "id": "9h-jatao3UBp",
        "outputId": "879e9fc5-639f-417b-d075-9a45b181d56c"
      },
      "execution_count": 60,
      "outputs": [
        {
          "output_type": "execute_result",
          "data": {
            "text/plain": [
              "(2, 4)"
            ]
          },
          "metadata": {},
          "execution_count": 60
        }
      ]
    },
    {
      "cell_type": "code",
      "source": [
        "# Retorna a quantidade de dimensões\n",
        "two_dim.ndim"
      ],
      "metadata": {
        "colab": {
          "base_uri": "https://localhost:8080/"
        },
        "id": "X-KcZb824Kzq",
        "outputId": "e8f6e0c9-b3cd-496d-ee47-252baec43d95"
      },
      "execution_count": 61,
      "outputs": [
        {
          "output_type": "execute_result",
          "data": {
            "text/plain": [
              "2"
            ]
          },
          "metadata": {},
          "execution_count": 61
        }
      ]
    },
    {
      "cell_type": "code",
      "source": [
        "# Imprimindo o valor máximo do array\n",
        "two_dim.max()"
      ],
      "metadata": {
        "colab": {
          "base_uri": "https://localhost:8080/"
        },
        "id": "Ypy2EO7c4QIx",
        "outputId": "7430ed38-f804-47be-d3dd-662ee7784b2a"
      },
      "execution_count": 62,
      "outputs": [
        {
          "output_type": "execute_result",
          "data": {
            "text/plain": [
              "7"
            ]
          },
          "metadata": {},
          "execution_count": 62
        }
      ]
    },
    {
      "cell_type": "code",
      "source": [
        "# Imprimindo o valor mínimo do array\n",
        "two_dim.min()"
      ],
      "metadata": {
        "colab": {
          "base_uri": "https://localhost:8080/"
        },
        "id": "HTUDnEt04QRV",
        "outputId": "b59098ef-fdb1-4630-dde8-ca5132390bf7"
      },
      "execution_count": 63,
      "outputs": [
        {
          "output_type": "execute_result",
          "data": {
            "text/plain": [
              "0"
            ]
          },
          "metadata": {},
          "execution_count": 63
        }
      ]
    },
    {
      "cell_type": "code",
      "source": [
        "# Imprimindo o valor méadia do array\n",
        "two_dim.mean()"
      ],
      "metadata": {
        "colab": {
          "base_uri": "https://localhost:8080/"
        },
        "id": "-0TqPbJ24QYI",
        "outputId": "21b6b319-9422-4599-fb54-8143591eb604"
      },
      "execution_count": 64,
      "outputs": [
        {
          "output_type": "execute_result",
          "data": {
            "text/plain": [
              "3.5"
            ]
          },
          "metadata": {},
          "execution_count": 64
        }
      ]
    },
    {
      "cell_type": "code",
      "source": [
        "# Imprimindo o valor desvio padrão do array\n",
        "two_dim.std()"
      ],
      "metadata": {
        "colab": {
          "base_uri": "https://localhost:8080/"
        },
        "id": "2nBGd9xQ4cHC",
        "outputId": "4575d1e8-bd72-499c-afbf-db464276b557"
      },
      "execution_count": 65,
      "outputs": [
        {
          "output_type": "execute_result",
          "data": {
            "text/plain": [
              "2.29128784747792"
            ]
          },
          "metadata": {},
          "execution_count": 65
        }
      ]
    },
    {
      "cell_type": "code",
      "source": [
        "# Identificar o tipo de elementos do array\n",
        "two_dim.dtype"
      ],
      "metadata": {
        "colab": {
          "base_uri": "https://localhost:8080/"
        },
        "id": "D_t9iLfe44iE",
        "outputId": "1f95d73d-d90d-4486-ede4-9de093dd9235"
      },
      "execution_count": 66,
      "outputs": [
        {
          "output_type": "execute_result",
          "data": {
            "text/plain": [
              "dtype('int64')"
            ]
          },
          "metadata": {},
          "execution_count": 66
        }
      ]
    },
    {
      "cell_type": "code",
      "source": [
        "# Quantos elementos tenho dentro do array\n",
        "two_dim.size"
      ],
      "metadata": {
        "colab": {
          "base_uri": "https://localhost:8080/"
        },
        "id": "5OEOkQs05E5K",
        "outputId": "f7dfe473-c57b-47eb-9aae-53f47d41674e"
      },
      "execution_count": 67,
      "outputs": [
        {
          "output_type": "execute_result",
          "data": {
            "text/plain": [
              "8"
            ]
          },
          "metadata": {},
          "execution_count": 67
        }
      ]
    },
    {
      "cell_type": "code",
      "source": [
        "# Mostra a quantidade\n",
        "two_dim.itemsize"
      ],
      "metadata": {
        "colab": {
          "base_uri": "https://localhost:8080/"
        },
        "id": "IdfKz9jL5NwP",
        "outputId": "8d40e3a3-db54-48bf-d1d3-16f2f4e8524d"
      },
      "execution_count": 68,
      "outputs": [
        {
          "output_type": "execute_result",
          "data": {
            "text/plain": [
              "8"
            ]
          },
          "metadata": {},
          "execution_count": 68
        }
      ]
    },
    {
      "cell_type": "code",
      "source": [
        "# Somando todos os elementos do array\n",
        "two_dim.sum()"
      ],
      "metadata": {
        "colab": {
          "base_uri": "https://localhost:8080/"
        },
        "id": "6uriYHAR5cnX",
        "outputId": "a92d7db9-0680-4cc4-d447-7e553fa60ebb"
      },
      "execution_count": 69,
      "outputs": [
        {
          "output_type": "execute_result",
          "data": {
            "text/plain": [
              "28"
            ]
          },
          "metadata": {},
          "execution_count": 69
        }
      ]
    },
    {
      "cell_type": "markdown",
      "source": [
        "**Transformando Array **"
      ],
      "metadata": {
        "id": "sdmc5qCm5v-v"
      }
    },
    {
      "cell_type": "code",
      "source": [
        "# Gera a transposta da Matriz (linha -> coluna)\n",
        "two_dim.T"
      ],
      "metadata": {
        "colab": {
          "base_uri": "https://localhost:8080/"
        },
        "id": "LBlCc13I54b8",
        "outputId": "6b9920b5-e51d-4fe2-c8ef-777635b47886"
      },
      "execution_count": 70,
      "outputs": [
        {
          "output_type": "execute_result",
          "data": {
            "text/plain": [
              "array([[0, 4],\n",
              "       [1, 5],\n",
              "       [2, 6],\n",
              "       [3, 7]])"
            ]
          },
          "metadata": {},
          "execution_count": 70
        }
      ]
    },
    {
      "cell_type": "code",
      "source": [
        "# Transforma em uma matriz de uma linha\n",
        "# É muiti comum em bibliotecas como scikit-learn e keras\n",
        "two_dim.reshape(-1)"
      ],
      "metadata": {
        "colab": {
          "base_uri": "https://localhost:8080/"
        },
        "id": "q_Tbfcrg6DA4",
        "outputId": "1d162f54-2f7d-4db7-fa78-a8f18a2cf03c"
      },
      "execution_count": 71,
      "outputs": [
        {
          "output_type": "execute_result",
          "data": {
            "text/plain": [
              "array([0, 1, 2, 3, 4, 5, 6, 7])"
            ]
          },
          "metadata": {},
          "execution_count": 71
        }
      ]
    },
    {
      "cell_type": "code",
      "source": [
        "# Criar um array aleatório\n",
        "tree_dim = np.random.random((3,5))\n",
        "tree_dim"
      ],
      "metadata": {
        "colab": {
          "base_uri": "https://localhost:8080/"
        },
        "id": "361-Xji275GR",
        "outputId": "64250ee6-e8a6-4377-c5f1-76bf0ec94190"
      },
      "execution_count": 74,
      "outputs": [
        {
          "output_type": "execute_result",
          "data": {
            "text/plain": [
              "array([[0.12269263, 0.94791947, 0.16092299, 0.75394438, 0.12585119],\n",
              "       [0.53669484, 0.59622964, 0.98591211, 0.50504846, 0.2942555 ],\n",
              "       [0.1490407 , 0.86611577, 0.63672925, 0.90024041, 0.61770629]])"
            ]
          },
          "metadata": {},
          "execution_count": 74
        }
      ]
    },
    {
      "cell_type": "code",
      "source": [
        "# Transforma em uma matriz com 3 linhas e 4 colunas\n",
        "tree_dim.reshape(5,3)"
      ],
      "metadata": {
        "colab": {
          "base_uri": "https://localhost:8080/"
        },
        "id": "fVcq0Pt18gH1",
        "outputId": "1ea27055-1187-4479-ad64-9e848df263f6"
      },
      "execution_count": 76,
      "outputs": [
        {
          "output_type": "execute_result",
          "data": {
            "text/plain": [
              "array([[0.12269263, 0.94791947, 0.16092299],\n",
              "       [0.75394438, 0.12585119, 0.53669484],\n",
              "       [0.59622964, 0.98591211, 0.50504846],\n",
              "       [0.2942555 , 0.1490407 , 0.86611577],\n",
              "       [0.63672925, 0.90024041, 0.61770629]])"
            ]
          },
          "metadata": {},
          "execution_count": 76
        }
      ]
    },
    {
      "cell_type": "code",
      "source": [
        "# Adicionando elemento a um array\n",
        "tree_dim = np.insert(tree_dim,2,1)\n",
        "tree_dim"
      ],
      "metadata": {
        "colab": {
          "base_uri": "https://localhost:8080/"
        },
        "id": "-D3GF0Oe9QuQ",
        "outputId": "9f0c687d-8c54-495d-e247-382667945db9"
      },
      "execution_count": 79,
      "outputs": [
        {
          "output_type": "execute_result",
          "data": {
            "text/plain": [
              "array([3.        , 3.        , 1.        , 0.12269263, 0.94791947,\n",
              "       0.16092299, 0.75394438, 0.12585119, 0.53669484, 0.59622964,\n",
              "       0.98591211, 0.50504846, 0.2942555 , 0.1490407 , 0.86611577,\n",
              "       0.63672925, 0.90024041, 0.61770629])"
            ]
          },
          "metadata": {},
          "execution_count": 79
        }
      ]
    },
    {
      "cell_type": "code",
      "source": [
        "# Apagando o alemento da primeira posição do array\n",
        "tree_dim = np.delete(tree_dim,[0])\n",
        "tree_dim"
      ],
      "metadata": {
        "id": "T-DszFyF9Q-p"
      },
      "execution_count": null,
      "outputs": []
    },
    {
      "cell_type": "code",
      "source": [
        "# Gerando um arquivo . txt a partir de um array\n",
        "np.savetxt(\"array.txt\", tree_dim, delimiter=',')"
      ],
      "metadata": {
        "id": "7ILG4Mjp9gSf"
      },
      "execution_count": 83,
      "outputs": []
    },
    {
      "cell_type": "markdown",
      "source": [
        "**Funções que são úteis e pouco conhecidas**"
      ],
      "metadata": {
        "id": "h-epYqZF_DCh"
      }
    },
    {
      "cell_type": "code",
      "source": [
        "# Repete o valor dos array lado a lado ordenado\n",
        "x = np.array([1,2,3,4,5])\n",
        "np.repeat(x,3)"
      ],
      "metadata": {
        "colab": {
          "base_uri": "https://localhost:8080/"
        },
        "id": "9vfS4qQ3_Kwh",
        "outputId": "0026689e-ab2b-455f-8041-7da4fb103bc7"
      },
      "execution_count": 89,
      "outputs": [
        {
          "output_type": "execute_result",
          "data": {
            "text/plain": [
              "array([1, 1, 1, 2, 2, 2, 3, 3, 3, 4, 4, 4, 5, 5, 5])"
            ]
          },
          "metadata": {},
          "execution_count": 89
        }
      ]
    },
    {
      "cell_type": "code",
      "source": [
        "# Repete verticalmente três vezes\n",
        "np.tile(x,(3,1))"
      ],
      "metadata": {
        "colab": {
          "base_uri": "https://localhost:8080/"
        },
        "id": "phBKluPg_7QB",
        "outputId": "05a2e29b-90e2-4eb6-e212-577b3f67c7d2"
      },
      "execution_count": 90,
      "outputs": [
        {
          "output_type": "execute_result",
          "data": {
            "text/plain": [
              "array([[1, 2, 3, 4, 5],\n",
              "       [1, 2, 3, 4, 5],\n",
              "       [1, 2, 3, 4, 5]])"
            ]
          },
          "metadata": {},
          "execution_count": 90
        }
      ]
    },
    {
      "cell_type": "code",
      "source": [
        "# Inverte a ordem dos elementos do array\n",
        "np.flip(x)"
      ],
      "metadata": {
        "colab": {
          "base_uri": "https://localhost:8080/"
        },
        "id": "lgbAFftZ_8u0",
        "outputId": "a0abf02e-d11e-4b31-dce9-c8b41ed15397"
      },
      "execution_count": 91,
      "outputs": [
        {
          "output_type": "execute_result",
          "data": {
            "text/plain": [
              "array([5, 4, 3, 2, 1])"
            ]
          },
          "metadata": {},
          "execution_count": 91
        }
      ]
    },
    {
      "cell_type": "code",
      "source": [
        "# Produto acumulado de todos os elemntos anteriores no array\n",
        "np.cumprod(x)"
      ],
      "metadata": {
        "colab": {
          "base_uri": "https://localhost:8080/"
        },
        "id": "4dzcyxM5ACL0",
        "outputId": "bd31cc05-8369-4b5b-a6b0-04a2815fcbd9"
      },
      "execution_count": 92,
      "outputs": [
        {
          "output_type": "execute_result",
          "data": {
            "text/plain": [
              "array([  1,   2,   6,  24, 120])"
            ]
          },
          "metadata": {},
          "execution_count": 92
        }
      ]
    },
    {
      "cell_type": "code",
      "source": [
        "# Soma acumulada de todos os elementos anteriores no array\n",
        "np.cumsum(x)"
      ],
      "metadata": {
        "colab": {
          "base_uri": "https://localhost:8080/"
        },
        "id": "j8sLPalOATTt",
        "outputId": "6c578f62-d3b7-4c3e-803c-af697f7871d8"
      },
      "execution_count": 93,
      "outputs": [
        {
          "output_type": "execute_result",
          "data": {
            "text/plain": [
              "array([ 1,  3,  6, 10, 15])"
            ]
          },
          "metadata": {},
          "execution_count": 93
        }
      ]
    },
    {
      "cell_type": "code",
      "source": [
        "# Diferença de todos os elementos anteriores no array\n",
        "np.diff(x)"
      ],
      "metadata": {
        "colab": {
          "base_uri": "https://localhost:8080/"
        },
        "id": "4C-avrR0ATiK",
        "outputId": "a880b3bd-6a14-4f47-e766-ffce8a56acc8"
      },
      "execution_count": 94,
      "outputs": [
        {
          "output_type": "execute_result",
          "data": {
            "text/plain": [
              "array([1, 1, 1, 1])"
            ]
          },
          "metadata": {},
          "execution_count": 94
        }
      ]
    },
    {
      "cell_type": "code",
      "source": [
        "# Ordena os índices dos valores ordenados no arrays\n",
        "# ele não print os elementos apenas os índeces\n",
        "np.argsort(x)"
      ],
      "metadata": {
        "colab": {
          "base_uri": "https://localhost:8080/"
        },
        "id": "rO6DvYg3AUF8",
        "outputId": "c5cb3a45-5025-48fe-f3dc-dc96e7aa56a1"
      },
      "execution_count": 95,
      "outputs": [
        {
          "output_type": "execute_result",
          "data": {
            "text/plain": [
              "array([0, 1, 2, 3, 4])"
            ]
          },
          "metadata": {},
          "execution_count": 95
        }
      ]
    },
    {
      "cell_type": "code",
      "source": [
        "x = np.array([1,5,8,4])\n",
        "np.argsort(x)"
      ],
      "metadata": {
        "colab": {
          "base_uri": "https://localhost:8080/"
        },
        "id": "MA1ITqSUBEzp",
        "outputId": "3b64165b-0e17-4053-e4f6-8ea79ff5ed09"
      },
      "execution_count": 96,
      "outputs": [
        {
          "output_type": "execute_result",
          "data": {
            "text/plain": [
              "array([0, 3, 1, 2])"
            ]
          },
          "metadata": {},
          "execution_count": 96
        }
      ]
    },
    {
      "cell_type": "markdown",
      "source": [
        "Acessando Dimensões no Array"
      ],
      "metadata": {
        "id": "6IWa6yWpBa-5"
      }
    },
    {
      "cell_type": "code",
      "source": [
        "# Gera um array aleatório de 10 linhas e 2 colunas formato linha,coluna\n",
        "array_1 = np.random.random([10,2])"
      ],
      "metadata": {
        "id": "zkImEjTmBgf2"
      },
      "execution_count": 98,
      "outputs": []
    },
    {
      "cell_type": "code",
      "source": [
        "# Imprimindo o primeiro elemento (1 linha)\n",
        "array_1[3]"
      ],
      "metadata": {
        "colab": {
          "base_uri": "https://localhost:8080/"
        },
        "id": "-xESmlWjB0kM",
        "outputId": "fbb57ce6-8720-4f86-aee9-0d88185286ec"
      },
      "execution_count": 99,
      "outputs": [
        {
          "output_type": "execute_result",
          "data": {
            "text/plain": [
              "array([0.09566156, 0.33655989])"
            ]
          },
          "metadata": {},
          "execution_count": 99
        }
      ]
    },
    {
      "cell_type": "code",
      "source": [
        "# Imprimindo o primeiro elemento da coluna 0 [ 1 coluna]\n",
        "array_1[0][0]\n",
        "\n"
      ],
      "metadata": {
        "colab": {
          "base_uri": "https://localhost:8080/"
        },
        "id": "cRsLH5TRB_VC",
        "outputId": "7b91ee4b-7758-4b15-c0e6-4dc1bb2a0a9d"
      },
      "execution_count": 103,
      "outputs": [
        {
          "output_type": "execute_result",
          "data": {
            "text/plain": [
              "0.22580960993857258"
            ]
          },
          "metadata": {},
          "execution_count": 103
        }
      ]
    },
    {
      "cell_type": "code",
      "source": [
        "# Segundo elemento da coluna escrito com vírgula, em que o primeiro valor\n",
        "#específica a linha e o segundo o valor específico da coluna\n",
        "array_1[1,0]"
      ],
      "metadata": {
        "colab": {
          "base_uri": "https://localhost:8080/"
        },
        "id": "uM253m9dCouo",
        "outputId": "7068efbf-547c-4318-f4fc-aab3291d0edc"
      },
      "execution_count": 102,
      "outputs": [
        {
          "output_type": "execute_result",
          "data": {
            "text/plain": [
              "0.5788247796099218"
            ]
          },
          "metadata": {},
          "execution_count": 102
        }
      ]
    },
    {
      "cell_type": "code",
      "source": [
        "# Imprimindo até 3 valores da voluna 1 - Chamamos de fatiamento (n-1 [índice 0, 1 e 2]])\n",
        "array_1[:3,1]"
      ],
      "metadata": {
        "colab": {
          "base_uri": "https://localhost:8080/"
        },
        "id": "H9dcLi3ACruR",
        "outputId": "0f3f0d1f-ef5c-4900-ad54-103995ff8734"
      },
      "execution_count": 104,
      "outputs": [
        {
          "output_type": "execute_result",
          "data": {
            "text/plain": [
              "array([0.15827633, 0.3466364 , 0.57870387])"
            ]
          },
          "metadata": {},
          "execution_count": 104
        }
      ]
    },
    {
      "cell_type": "code",
      "source": [
        "# Imprimindo todos as linhas da coluna 1 multiplicada por 10\n",
        "array_1[:,1]*10"
      ],
      "metadata": {
        "colab": {
          "base_uri": "https://localhost:8080/"
        },
        "id": "8FrxniEUDGO3",
        "outputId": "a7513a07-a74a-471a-df53-2ba73ec3f669"
      },
      "execution_count": 105,
      "outputs": [
        {
          "output_type": "execute_result",
          "data": {
            "text/plain": [
              "array([1.58276328, 3.46636401, 5.78703866, 3.36559887, 3.01518102,\n",
              "       7.0234284 , 6.09987925, 3.13745012, 6.35664648, 0.99786351])"
            ]
          },
          "metadata": {},
          "execution_count": 105
        }
      ]
    },
    {
      "cell_type": "code",
      "source": [
        "# Criando um array multidimiensional de exemplo\n",
        "array = np.array([[1,2,3],\n",
        "                  [4,5,6],\n",
        "                  [7,8,9]])"
      ],
      "metadata": {
        "id": "KJRohldPDUsQ"
      },
      "execution_count": 106,
      "outputs": []
    },
    {
      "cell_type": "code",
      "source": [
        "# Fatiando o array em linhas\n",
        "primeiras_linhas = array[:2]\n",
        "ultima_linha = array[2:]\n",
        "\n",
        "print(\"Primeiras linhas:\")\n",
        "print(primeiras_linhas)\n",
        "\n",
        "print(\"\\nÚltima linha:\",ultima_linha)\n"
      ],
      "metadata": {
        "colab": {
          "base_uri": "https://localhost:8080/"
        },
        "id": "DAAHW4pEDU9P",
        "outputId": "a98bc68d-dbcc-4a90-c5e1-5bb5ac1ef1ce"
      },
      "execution_count": 110,
      "outputs": [
        {
          "output_type": "stream",
          "name": "stdout",
          "text": [
            "Primeiras linhas:\n",
            "[[1 2 3]\n",
            " [4 5 6]]\n",
            "\n",
            "Última linha: [[7 8 9]]\n"
          ]
        }
      ]
    },
    {
      "cell_type": "code",
      "source": [
        "# Fatiando o array em colunas\n",
        "primeiras_colunas = array[:,:2]\n",
        "ultima_coluna = array[:, 2:]\n",
        "\n",
        "print(\"Primeiras colunas:\")\n",
        "print(primeiras_colunas)\n",
        "\n",
        "print(\"\\nÚltima coluna:\")\n",
        "print(ultima_coluna)"
      ],
      "metadata": {
        "colab": {
          "base_uri": "https://localhost:8080/"
        },
        "id": "YJPYvQLfDVK9",
        "outputId": "0a475b35-5d08-40da-eeb8-f9bf243ad4b8"
      },
      "execution_count": 112,
      "outputs": [
        {
          "output_type": "stream",
          "name": "stdout",
          "text": [
            "Primeiras colunas:\n",
            "[[1 2]\n",
            " [4 5]\n",
            " [7 8]]\n",
            "\n",
            "Última coluna:\n",
            "[[3]\n",
            " [6]\n",
            " [9]]\n"
          ]
        }
      ]
    },
    {
      "cell_type": "code",
      "source": [
        "array"
      ],
      "metadata": {
        "colab": {
          "base_uri": "https://localhost:8080/"
        },
        "id": "xuPU2xqjFyjh",
        "outputId": "e8122d4b-efcc-40a3-f1ce-6cad22124dfc"
      },
      "execution_count": 118,
      "outputs": [
        {
          "output_type": "execute_result",
          "data": {
            "text/plain": [
              "array([[1, 2, 3],\n",
              "       [4, 5, 6],\n",
              "       [7, 8, 9]])"
            ]
          },
          "metadata": {},
          "execution_count": 118
        }
      ]
    },
    {
      "cell_type": "code",
      "source": [
        "# Imprimir de 1 a 5 pulando 2 números\n",
        "# se fosse fazer na mão for i in range(1,len(n_array),2)\n",
        "array[1:5:2]"
      ],
      "metadata": {
        "colab": {
          "base_uri": "https://localhost:8080/"
        },
        "id": "v9z5vq1xFB-i",
        "outputId": "27382938-9c28-4c22-9151-3d1e88391081"
      },
      "execution_count": 119,
      "outputs": [
        {
          "output_type": "execute_result",
          "data": {
            "text/plain": [
              "array([[4, 5, 6]])"
            ]
          },
          "metadata": {},
          "execution_count": 119
        }
      ]
    },
    {
      "cell_type": "code",
      "source": [
        "# Imprimindo os ímpares\n",
        "array[::2]"
      ],
      "metadata": {
        "colab": {
          "base_uri": "https://localhost:8080/"
        },
        "id": "-xFXF3bBFElZ",
        "outputId": "de076041-5af0-4f68-8bd4-61d01d05b8d9"
      },
      "execution_count": 120,
      "outputs": [
        {
          "output_type": "execute_result",
          "data": {
            "text/plain": [
              "array([[1, 2, 3],\n",
              "       [7, 8, 9]])"
            ]
          },
          "metadata": {},
          "execution_count": 120
        }
      ]
    },
    {
      "cell_type": "code",
      "source": [
        "# Imprimindo os pares\n",
        "array[1::2]"
      ],
      "metadata": {
        "colab": {
          "base_uri": "https://localhost:8080/"
        },
        "id": "YnJ9hJ5lFE5t",
        "outputId": "9fa7349b-38ea-4e40-8e82-208c47cb9116"
      },
      "execution_count": 121,
      "outputs": [
        {
          "output_type": "execute_result",
          "data": {
            "text/plain": [
              "array([[4, 5, 6]])"
            ]
          },
          "metadata": {},
          "execution_count": 121
        }
      ]
    },
    {
      "cell_type": "code",
      "source": [
        "# Comparação retorna indíces\n",
        "n_array > 30"
      ],
      "metadata": {
        "colab": {
          "base_uri": "https://localhost:8080/"
        },
        "id": "kKQcuwVoFFGm",
        "outputId": "da859704-cfe7-4ab7-c083-a7367a27da30"
      },
      "execution_count": 140,
      "outputs": [
        {
          "output_type": "execute_result",
          "data": {
            "text/plain": [
              "array([False, False, False, False, False,  True,  True,  True])"
            ]
          },
          "metadata": {},
          "execution_count": 140
        }
      ]
    },
    {
      "cell_type": "code",
      "source": [
        "# Se desejar ver os elementos\n",
        "n_array[n_array > 30]"
      ],
      "metadata": {
        "colab": {
          "base_uri": "https://localhost:8080/"
        },
        "id": "S8SsbwV2GXMX",
        "outputId": "750c7f30-e2ba-4ba7-c98e-99a11bc42763"
      },
      "execution_count": 139,
      "outputs": [
        {
          "output_type": "execute_result",
          "data": {
            "text/plain": [
              "array([35, 40, 45])"
            ]
          },
          "metadata": {},
          "execution_count": 139
        }
      ]
    },
    {
      "cell_type": "code",
      "source": [
        "# Soma os elementos de uma função\n",
        "np.sum(array[array> 30])"
      ],
      "metadata": {
        "colab": {
          "base_uri": "https://localhost:8080/"
        },
        "id": "Cq09rOtBPqHY",
        "outputId": "c757b372-cdc8-4fae-aba8-74706a36f3ce"
      },
      "execution_count": 142,
      "outputs": [
        {
          "output_type": "execute_result",
          "data": {
            "text/plain": [
              "45"
            ]
          },
          "metadata": {},
          "execution_count": 142
        }
      ]
    },
    {
      "cell_type": "code",
      "source": [
        "# Substituição de valores < 20\n",
        "array[array < 20] = 10\n",
        "array"
      ],
      "metadata": {
        "colab": {
          "base_uri": "https://localhost:8080/"
        },
        "id": "t8CaPgG7Qh3D",
        "outputId": "fc886a4f-0a77-4c4c-d1e4-a79f0c167823"
      },
      "execution_count": 144,
      "outputs": [
        {
          "output_type": "execute_result",
          "data": {
            "text/plain": [
              "array([[10, 10, 10],\n",
              "       [10, 10, 10],\n",
              "       [10, 10, 10]])"
            ]
          },
          "metadata": {},
          "execution_count": 144
        }
      ]
    },
    {
      "cell_type": "code",
      "source": [
        "# Também podemos condicional com where\n",
        "my_array = np.random.random([10,2])\n",
        "print(my_array)\n",
        "np.where(my_array < 0.30, 10, my_array)"
      ],
      "metadata": {
        "colab": {
          "base_uri": "https://localhost:8080/"
        },
        "id": "U7TZWkkfQ1rT",
        "outputId": "08a8735d-94cb-4be6-f527-7aaf58af7b61"
      },
      "execution_count": 147,
      "outputs": [
        {
          "output_type": "stream",
          "name": "stdout",
          "text": [
            "[[0.27903536 0.72512008]\n",
            " [0.10832551 0.46852861]\n",
            " [0.10431445 0.88400701]\n",
            " [0.37489455 0.93628106]\n",
            " [0.40080669 0.00479245]\n",
            " [0.40747734 0.77553928]\n",
            " [0.11180528 0.6004191 ]\n",
            " [0.44144    0.53228469]\n",
            " [0.6845318  0.45491894]\n",
            " [0.43714723 0.35615551]]\n"
          ]
        },
        {
          "output_type": "execute_result",
          "data": {
            "text/plain": [
              "array([[10.        ,  0.72512008],\n",
              "       [10.        ,  0.46852861],\n",
              "       [10.        ,  0.88400701],\n",
              "       [ 0.37489455,  0.93628106],\n",
              "       [ 0.40080669, 10.        ],\n",
              "       [ 0.40747734,  0.77553928],\n",
              "       [10.        ,  0.6004191 ],\n",
              "       [ 0.44144   ,  0.53228469],\n",
              "       [ 0.6845318 ,  0.45491894],\n",
              "       [ 0.43714723,  0.35615551]])"
            ]
          },
          "metadata": {},
          "execution_count": 147
        }
      ]
    },
    {
      "cell_type": "code",
      "source": [
        "# Somar as linhas, axis = 1\n",
        "np.sum(my_array,axis = 1)\n"
      ],
      "metadata": {
        "colab": {
          "base_uri": "https://localhost:8080/"
        },
        "id": "S-KjrDjARany",
        "outputId": "960e5ab6-fbc5-4dda-f805-e86716b860de"
      },
      "execution_count": 151,
      "outputs": [
        {
          "output_type": "execute_result",
          "data": {
            "text/plain": [
              "array([1.00415543, 0.57685413, 0.98832146, 1.31117561, 0.40559915,\n",
              "       1.18301662, 0.71222438, 0.97372468, 1.13945074, 0.79330274])"
            ]
          },
          "metadata": {},
          "execution_count": 151
        }
      ]
    },
    {
      "cell_type": "code",
      "source": [
        "# Somar as colunas, axis = 0\n",
        "np.sum(my_array,axis = 0)"
      ],
      "metadata": {
        "colab": {
          "base_uri": "https://localhost:8080/"
        },
        "id": "wDYzcGBvRhkr",
        "outputId": "80245ebb-be76-44c4-8e6b-a23529e3b824"
      },
      "execution_count": 152,
      "outputs": [
        {
          "output_type": "execute_result",
          "data": {
            "text/plain": [
              "array([3.34977821, 5.73804672])"
            ]
          },
          "metadata": {},
          "execution_count": 152
        }
      ]
    },
    {
      "cell_type": "markdown",
      "source": [
        "**Carregar Array Numpy a partir de arquivos de Texto**"
      ],
      "metadata": {
        "id": "SaNgZZXmSRIn"
      }
    },
    {
      "cell_type": "code",
      "source": [
        "# lendo um arquivo do tipo .txt\n",
        "dataset = np.loadtxt('array.txt', delimiter=',')"
      ],
      "metadata": {
        "id": "ZINUOEIRSOCE"
      },
      "execution_count": 157,
      "outputs": []
    },
    {
      "cell_type": "code",
      "source": [
        "dataset.shape"
      ],
      "metadata": {
        "colab": {
          "base_uri": "https://localhost:8080/"
        },
        "id": "BaXkAe3tSaQ-",
        "outputId": "7428dee4-65c9-463d-f7fa-1ce02f1a894b"
      },
      "execution_count": 158,
      "outputs": [
        {
          "output_type": "execute_result",
          "data": {
            "text/plain": [
              "(17,)"
            ]
          },
          "metadata": {},
          "execution_count": 158
        }
      ]
    },
    {
      "cell_type": "code",
      "source": [
        "dataset"
      ],
      "metadata": {
        "colab": {
          "base_uri": "https://localhost:8080/"
        },
        "id": "ELzds-TeSaWN",
        "outputId": "12e42b14-ea73-4b21-cce2-a0f8605ebe77"
      },
      "execution_count": 159,
      "outputs": [
        {
          "output_type": "execute_result",
          "data": {
            "text/plain": [
              "array([3.        , 1.        , 0.12269263, 0.94791947, 0.16092299,\n",
              "       0.75394438, 0.12585119, 0.53669484, 0.59622964, 0.98591211,\n",
              "       0.50504846, 0.2942555 , 0.1490407 , 0.86611577, 0.63672925,\n",
              "       0.90024041, 0.61770629])"
            ]
          },
          "metadata": {},
          "execution_count": 159
        }
      ]
    },
    {
      "cell_type": "code",
      "source": [
        "# Carregando um arquivo dividido em 3 arrays\n",
        "# utilize o ubpack para retornar o elemento transposto\n",
        "a = np.loadtxt('array.txt', skiprows=1, unpack=True)\n"
      ],
      "metadata": {
        "id": "MZZZ1Q84SaaW"
      },
      "execution_count": 165,
      "outputs": []
    },
    {
      "cell_type": "code",
      "source": [
        "# Array a\n",
        "a"
      ],
      "metadata": {
        "colab": {
          "base_uri": "https://localhost:8080/"
        },
        "id": "M6G6uithSaeD",
        "outputId": "68f6a221-3bf9-442c-822f-2a55baae6e03"
      },
      "execution_count": 166,
      "outputs": [
        {
          "output_type": "execute_result",
          "data": {
            "text/plain": [
              "array([1.        , 0.12269263, 0.94791947, 0.16092299, 0.75394438,\n",
              "       0.12585119, 0.53669484, 0.59622964, 0.98591211, 0.50504846,\n",
              "       0.2942555 , 0.1490407 , 0.86611577, 0.63672925, 0.90024041,\n",
              "       0.61770629])"
            ]
          },
          "metadata": {},
          "execution_count": 166
        }
      ]
    },
    {
      "cell_type": "code",
      "source": [
        "# Utilize genfromtxt para arquivos com valores faltantes\n",
        "# Carrega o arquivo ignorando as 2 primeiras linhas e preenchendo os valores vazio por 0\n",
        "# Obs: os valores string também são convertidos\n",
        "# Utilize filling_values para substituir os valores faltantes ou em strings pelo valor especificado nesta variaável\n",
        "dateset = np.genfromtxt('array.txt', skip_header=2, filling_values=0)"
      ],
      "metadata": {
        "id": "pqGku1GnSrKT"
      },
      "execution_count": 167,
      "outputs": []
    },
    {
      "cell_type": "code",
      "source": [
        "dateset"
      ],
      "metadata": {
        "colab": {
          "base_uri": "https://localhost:8080/"
        },
        "id": "f5_CYE9wVZLT",
        "outputId": "7f6b09da-02ed-41bb-d9e5-ccdfaaa3c4b7"
      },
      "execution_count": 168,
      "outputs": [
        {
          "output_type": "execute_result",
          "data": {
            "text/plain": [
              "array([0.12269263, 0.94791947, 0.16092299, 0.75394438, 0.12585119,\n",
              "       0.53669484, 0.59622964, 0.98591211, 0.50504846, 0.2942555 ,\n",
              "       0.1490407 , 0.86611577, 0.63672925, 0.90024041, 0.61770629])"
            ]
          },
          "metadata": {},
          "execution_count": 168
        }
      ]
    },
    {
      "cell_type": "markdown",
      "source": [
        "**Operações Matriciais **"
      ],
      "metadata": {
        "id": "tmVVH4KXXAZ6"
      }
    },
    {
      "cell_type": "code",
      "source": [
        "a = np.array([100, 200, 300])\n",
        "print(a)\n",
        "print(type(a))\n",
        "print(a.shape)\n",
        "print(a.ndim)\n",
        "\n",
        "print(a[0],a[1],a[2])"
      ],
      "metadata": {
        "id": "T0zxEh-FW6Bd"
      },
      "execution_count": null,
      "outputs": []
    },
    {
      "cell_type": "code",
      "source": [
        "# Subistituição de elementos\n",
        "a[0] = 500\n",
        "print(a)"
      ],
      "metadata": {
        "colab": {
          "base_uri": "https://localhost:8080/"
        },
        "id": "BP4OkPxxXrzb",
        "outputId": "f069b2cb-b9c6-4503-e86f-0b6c0b052604"
      },
      "execution_count": 173,
      "outputs": [
        {
          "output_type": "stream",
          "name": "stdout",
          "text": [
            "[500 200 300]\n"
          ]
        }
      ]
    },
    {
      "cell_type": "markdown",
      "source": [
        "#**Operações matriciais**"
      ],
      "metadata": {
        "id": "5vh84FQhYC4V"
      }
    },
    {
      "cell_type": "markdown",
      "source": [
        "**Soma**"
      ],
      "metadata": {
        "id": "-MNb8UT_YSKg"
      }
    },
    {
      "cell_type": "code",
      "source": [
        "#1  2    5  6    6   8\n",
        "#   +      =\n",
        "#3  4     7  8   10 12\n",
        "\n",
        "x = np.array([[1,2],[3,4]], dtype=np.float64)\n",
        "y = np.array([[5,6],[7,8]], dtype=np.float64)\n",
        "\n",
        "print(\"x:\" + str(x) + \"\\n\")\n",
        "print(\"y:\" + str(y) + \"\\n\")\n",
        "\n",
        "# [[6.0  8.0]]\n",
        "# [[10.0  12.0]]\n",
        "\n",
        "# Para fazemos a soma da matriz podemos usar as formas\n",
        "print(x + y)\n",
        "print()\n",
        "print(np.add(x,y))"
      ],
      "metadata": {
        "colab": {
          "base_uri": "https://localhost:8080/"
        },
        "id": "DhkXUVmHX31r",
        "outputId": "87592c0f-66e3-4196-b542-811b842aa855"
      },
      "execution_count": 176,
      "outputs": [
        {
          "output_type": "stream",
          "name": "stdout",
          "text": [
            "x:[[1. 2.]\n",
            " [3. 4.]]\n",
            "\n",
            "y:[[5. 6.]\n",
            " [7. 8.]]\n",
            "\n",
            "[[ 6.  8.]\n",
            " [10. 12.]]\n",
            "\n",
            "[[ 6.  8.]\n",
            " [10. 12.]]\n"
          ]
        }
      ]
    },
    {
      "cell_type": "markdown",
      "source": [
        "Subitração"
      ],
      "metadata": {
        "id": "jYGZBOqPaBQ5"
      }
    },
    {
      "cell_type": "code",
      "source": [
        "#1  2    5  6    6   8\n",
        "#      -      =\n",
        "#3  4     7  8   10 12\n",
        "\n",
        "x = np.array([[1,2],[3,4]], dtype=np.float64)\n",
        "y = np.array([[5,6],[7,8]], dtype=np.float64)\n",
        "\n",
        "print(\"x:\" + str(x) + \"\\n\")\n",
        "print(\"y:\" + str(y) + \"\\n\")\n",
        "\n",
        "# [[6.0  8.0]]\n",
        "# [[10.0  12.0]]\n",
        "\n",
        "# Para fazemos a subtração da matriz podemos usar as formas\n",
        "print(x - y)\n",
        "print()\n",
        "print(np.subtract(x,y))"
      ],
      "metadata": {
        "colab": {
          "base_uri": "https://localhost:8080/"
        },
        "id": "QKHHEHncZruO",
        "outputId": "4651d960-c5c2-4a35-9537-0ec07387ba62"
      },
      "execution_count": 178,
      "outputs": [
        {
          "output_type": "stream",
          "name": "stdout",
          "text": [
            "x:[[1. 2.]\n",
            " [3. 4.]]\n",
            "\n",
            "y:[[5. 6.]\n",
            " [7. 8.]]\n",
            "\n",
            "[[-4. -4.]\n",
            " [-4. -4.]]\n",
            "\n",
            "[[-4. -4.]\n",
            " [-4. -4.]]\n"
          ]
        }
      ]
    },
    {
      "cell_type": "markdown",
      "source": [
        "**Multiplicação**"
      ],
      "metadata": {
        "id": "-fh-mViraEhj"
      }
    },
    {
      "cell_type": "code",
      "source": [
        "#Multiplicação de elementos\n",
        "#1  2    5  6    6   8\n",
        "#      *      =\n",
        "#3  4     7  8   10 12\n",
        "\n",
        "x = np.array([[1,2],[3,4]], dtype=np.float64)\n",
        "y = np.array([[5,6],[7,8]], dtype=np.float64)\n",
        "\n",
        "print(\"x:\" + str(x) + \"\\n\")\n",
        "print(\"y:\" + str(y) + \"\\n\")\n",
        "\n",
        "# [[6.0  8.0]]\n",
        "# [[10.0  12.0]]\n",
        "\n",
        "# Para fazemos a multiplicação da matriz podemos usar as formas\n",
        "print(x * y)\n",
        "print()\n",
        "print(np.multiply(x,y))"
      ],
      "metadata": {
        "colab": {
          "base_uri": "https://localhost:8080/"
        },
        "id": "XjK36ipxaId0",
        "outputId": "34c429da-0e65-4c1e-c33d-04da5346b90b"
      },
      "execution_count": 179,
      "outputs": [
        {
          "output_type": "stream",
          "name": "stdout",
          "text": [
            "x:[[1. 2.]\n",
            " [3. 4.]]\n",
            "\n",
            "y:[[5. 6.]\n",
            " [7. 8.]]\n",
            "\n",
            "[[ 5. 12.]\n",
            " [21. 32.]]\n",
            "\n",
            "[[ 5. 12.]\n",
            " [21. 32.]]\n"
          ]
        }
      ]
    },
    {
      "cell_type": "code",
      "source": [
        "#Multiplicação de matrizes\n",
        "#1  2    5  6    1*5 + 2*7       1*5 + 2*8\n",
        "#      *      =\n",
        "#3  4     7  8   3*5 + 4*7       3*6 + 4*8\n",
        "\n",
        "x = np.array([[1,2],[3,4]], dtype=np.float64)\n",
        "y = np.array([[5,6],[7,8]], dtype=np.float64)\n",
        "\n",
        "print(\"x:\" + str(x) + \"\\n\")\n",
        "print(\"y:\" + str(y) + \"\\n\")\n",
        "\n",
        "# [[6.0  8.0]]\n",
        "# [[10.0  12.0]]\n",
        "\n",
        "# Multiplicação de matrizes\n",
        "print(x.dot(y))\n",
        "print()\n",
        "print(np.dot(x,y))"
      ],
      "metadata": {
        "colab": {
          "base_uri": "https://localhost:8080/"
        },
        "id": "HtGy-0UdaY7U",
        "outputId": "88635a8f-3ffb-4771-bc2e-91cb9654803b"
      },
      "execution_count": 180,
      "outputs": [
        {
          "output_type": "stream",
          "name": "stdout",
          "text": [
            "x:[[1. 2.]\n",
            " [3. 4.]]\n",
            "\n",
            "y:[[5. 6.]\n",
            " [7. 8.]]\n",
            "\n",
            "[[19. 22.]\n",
            " [43. 50.]]\n",
            "\n",
            "[[19. 22.]\n",
            " [43. 50.]]\n"
          ]
        }
      ]
    },
    {
      "cell_type": "markdown",
      "source": [
        "**Divisão**"
      ],
      "metadata": {
        "id": "zWV0AH4wbegU"
      }
    },
    {
      "cell_type": "code",
      "source": [
        "#Divisão de elementos\n",
        "#[[ 0.2    0.3333]\n",
        "#[ 0.4285  0.5  ]]\n",
        "\n",
        "#1  2    5  6    0.2    0.3333\n",
        "#      /      =\n",
        "#3  4     7  8   0.4285  0.5\n",
        "\n",
        "x = np.array([[1,2],[3,4]], dtype=np.float64)\n",
        "y = np.array([[5,6],[7,8]], dtype=np.float64)\n",
        "\n",
        "print(\"x:\" + str(x) + \"\\n\")\n",
        "print(\"y:\" + str(y) + \"\\n\")\n",
        "\n",
        "# [[6.0  8.0]]\n",
        "# [[10.0  12.0]]\n",
        "\n",
        "# Para fazemos a multiplicação da matriz podemos usar as formas\n",
        "print(x / y)\n",
        "print()\n",
        "print(np.divide(x,y))"
      ],
      "metadata": {
        "colab": {
          "base_uri": "https://localhost:8080/"
        },
        "id": "XCbGjoCTbhdl",
        "outputId": "ecf3e444-4e11-4ecf-80ea-0158aaa2d905"
      },
      "execution_count": 181,
      "outputs": [
        {
          "output_type": "stream",
          "name": "stdout",
          "text": [
            "x:[[1. 2.]\n",
            " [3. 4.]]\n",
            "\n",
            "y:[[5. 6.]\n",
            " [7. 8.]]\n",
            "\n",
            "[[0.2        0.33333333]\n",
            " [0.42857143 0.5       ]]\n",
            "\n",
            "[[0.2        0.33333333]\n",
            " [0.42857143 0.5       ]]\n"
          ]
        }
      ]
    },
    {
      "cell_type": "markdown",
      "source": [
        "Raiz quadrada"
      ],
      "metadata": {
        "id": "qbQ_h9YncFiV"
      }
    },
    {
      "cell_type": "code",
      "source": [
        "# Raiz quadrada os elementos de uma matriz\n",
        "x = np.array([[1,2],[3,4]], dtype=np.float64)\n",
        "\n",
        "print(np.sqrt(x))"
      ],
      "metadata": {
        "colab": {
          "base_uri": "https://localhost:8080/"
        },
        "id": "EDuOXHW3cFJ0",
        "outputId": "0d2da58a-d3fe-4cca-9d35-291c99196be6"
      },
      "execution_count": 182,
      "outputs": [
        {
          "output_type": "stream",
          "name": "stdout",
          "text": [
            "[[1.         1.41421356]\n",
            " [1.73205081 2.        ]]\n"
          ]
        }
      ]
    },
    {
      "cell_type": "markdown",
      "source": [
        "Construção de matrizes prontas"
      ],
      "metadata": {
        "id": "IcGksrETce7k"
      }
    },
    {
      "cell_type": "code",
      "source": [
        "import numpy as np\n",
        "\n",
        "a = np.zeros((2,2)) # array de zeros\n",
        "print(a, '\\n')\n",
        "\n",
        "b = np.ones((1,2)) # array de uns\n",
        "print(b, '\\n')\n",
        "\n",
        "c = np.full((2,2),7) # array de constatntes\n",
        "print(c, '\\n')\n",
        "\n",
        "d = np.eye((2)) # matriz identidade\n",
        "print(d, '\\n')\n",
        "\n",
        "e = np.random.random((2,2)) # array preenchida com valores rondomicos entre 0 e 1\n",
        "print(e, '\\n')"
      ],
      "metadata": {
        "colab": {
          "base_uri": "https://localhost:8080/"
        },
        "id": "9tYrNda_cJt1",
        "outputId": "ca989411-b48a-4cf8-f011-bb2f8414a15f"
      },
      "execution_count": 185,
      "outputs": [
        {
          "output_type": "stream",
          "name": "stdout",
          "text": [
            "[[0. 0.]\n",
            " [0. 0.]] \n",
            "\n",
            "[[1. 1.]] \n",
            "\n",
            "[[7 7]\n",
            " [7 7]] \n",
            "\n",
            "[[1. 0.]\n",
            " [0. 1.]] \n",
            "\n",
            "[[0.95587652 0.84817367]\n",
            " [0.64552156 0.76819788]] \n",
            "\n"
          ]
        }
      ]
    },
    {
      "cell_type": "code",
      "source": [
        "# Acesso de elementos\n",
        "a = np.array([[1,2,3],[4,5,6],[7,8,9]])\n",
        "\n",
        "b = a[:2, 1:3]\n",
        "print(b, '\\n')"
      ],
      "metadata": {
        "colab": {
          "base_uri": "https://localhost:8080/"
        },
        "id": "CChADzhodxcB",
        "outputId": "52bdc399-783b-4178-dffb-5c39792b7d55"
      },
      "execution_count": 186,
      "outputs": [
        {
          "output_type": "stream",
          "name": "stdout",
          "text": [
            "[[2 3]\n",
            " [5 6]] \n",
            "\n"
          ]
        }
      ]
    },
    {
      "cell_type": "code",
      "source": [
        "array = np.arange(8)\n",
        "print('Original array : \\n', array)\n",
        "\n",
        "# Shape array com 2 linhas e 2 colunas\n",
        "array = np.arange(4).reshape(2,2)\n",
        "print('\\nArray resshape com 4 linhas e 2 colunas: \\n', array)\n",
        "\n",
        "# Shape array com 4 linhas e 2 colunas\n",
        "array = np.arange(8).reshape(2,4)\n",
        "print('\\nArray resshape com 2 linhas e 4 colunas: \\n', array)\n",
        "\n",
        "# Array 3D\n",
        "array = np.arange(8).reshape(2,2,2)\n",
        "print('\\nOriginal de array reshaped para 3D: \\n', array)"
      ],
      "metadata": {
        "colab": {
          "base_uri": "https://localhost:8080/"
        },
        "id": "fU06tMQgeoEV",
        "outputId": "c375fcbd-4757-4694-cfb8-45084006a4c8"
      },
      "execution_count": 187,
      "outputs": [
        {
          "output_type": "stream",
          "name": "stdout",
          "text": [
            "Original array : \n",
            " [0 1 2 3 4 5 6 7]\n",
            "\n",
            "Array resshape com 4 linhas e 2 colunas: \n",
            " [[0 1]\n",
            " [2 3]]\n",
            "\n",
            "Array resshape com 2 linhas e 4 colunas: \n",
            " [[0 1 2 3]\n",
            " [4 5 6 7]]\n",
            "\n",
            "Original de array reshaped para 30: \n",
            " [[[0 1]\n",
            "  [2 3]]\n",
            "\n",
            " [[4 5]\n",
            "  [6 7]]]\n"
          ]
        }
      ]
    },
    {
      "cell_type": "code",
      "source": [
        "x = np.array([[1,2,3],[4,5,6],[7,8,9],[10,11,12]])\n",
        "v = np.array([1,0,1])\n",
        "y = np.empty_like(x) # cria uma matriz vazia do mesmo shape que x\n",
        "\n",
        "print(y)\n",
        "\n",
        "# Adicionando um vetor v a cada linha da matriz x com o loop\n",
        "\n",
        "for i in range(4):\n",
        "  y[i,:] = x[i,:]+v\n",
        "\n",
        "print(y)\n"
      ],
      "metadata": {
        "colab": {
          "base_uri": "https://localhost:8080/"
        },
        "id": "0Hqkz0y4fw1f",
        "outputId": "a83ea383-3a23-43a4-949c-215d5249ae09"
      },
      "execution_count": 188,
      "outputs": [
        {
          "output_type": "stream",
          "name": "stdout",
          "text": [
            "[[101070510561414               0               0]\n",
            " [              0               0               0]\n",
            " [              0               0               0]\n",
            " [              0               0               0]]\n",
            "[[ 2  2  4]\n",
            " [ 5  5  7]\n",
            " [ 8  8 10]\n",
            " [11 11 13]]\n"
          ]
        }
      ]
    },
    {
      "cell_type": "markdown",
      "source": [
        "#Listas vs Arrays - Tempo de execução\n"
      ],
      "metadata": {
        "id": "9f2Lb8F0zemG"
      }
    },
    {
      "cell_type": "code",
      "source": [
        "import time\n",
        "l1 = list(range(1000000))\n",
        "l2 = np.arange(1000000)\n",
        "\n",
        "# Usando list simples\n",
        "start_time = time.time()\n",
        "%time for i in range(len(l1)):l1[i]= l1[i]*2\n",
        "end_time = time.time()\n",
        "cpu_time = end_time - start_time\n",
        "\n",
        "print('Tempo de CPU:', cpu_time, \"segundos\")\n",
        "\n",
        "# Usando list comprehension\n",
        "start_time = time.time()\n",
        "%time l = [i*2 for i in l1]\n",
        "end_time = time.time()\n",
        "cpu_time = end_time - start_time\n",
        "\n",
        "print('Tempo de CPU:', cpu_time, \"segundos\")\n",
        "\n",
        "# Usando Numpy\n",
        "start_time = time.time()\n",
        "%time l2 = l2 *2\n",
        "end_time = time.time()\n",
        "cpu_time = end_time - start_time\n",
        "\n",
        "print('Tempo de CPU:', cpu_time, \"segundos\")\n"
      ],
      "metadata": {
        "colab": {
          "base_uri": "https://localhost:8080/"
        },
        "id": "aMJ5eBeOzrwe",
        "outputId": "dce2dcd7-9bf5-40b4-dd83-294ff7978459"
      },
      "execution_count": 58,
      "outputs": [
        {
          "output_type": "stream",
          "name": "stdout",
          "text": [
            "CPU times: user 373 ms, sys: 2.02 ms, total: 375 ms\n",
            "Wall time: 602 ms\n",
            "Tempo de CPU: 0.6041648387908936 segundos\n",
            "CPU times: user 96.5 ms, sys: 19.5 ms, total: 116 ms\n",
            "Wall time: 118 ms\n",
            "Tempo de CPU: 0.11972951889038086 segundos\n",
            "CPU times: user 2.32 ms, sys: 1.06 ms, total: 3.38 ms\n",
            "Wall time: 1.97 ms\n",
            "Tempo de CPU: 0.0025925636291503906 segundos\n"
          ]
        }
      ]
    },
    {
      "cell_type": "markdown",
      "source": [
        "#Exercício de Numpy"
      ],
      "metadata": {
        "id": "Zr8Dk3fc21sn"
      }
    },
    {
      "cell_type": "code",
      "source": [
        "# Crie um array NumPy unidimensional com os números de 1 a 10.\n",
        "\n",
        "x = np.arange(1,11)\n",
        "print(x)"
      ],
      "metadata": {
        "colab": {
          "base_uri": "https://localhost:8080/"
        },
        "id": "J7kHeU9E0NaB",
        "outputId": "9a534de8-e0fe-499b-9a69-ba7cc1d2c471"
      },
      "execution_count": 194,
      "outputs": [
        {
          "output_type": "stream",
          "name": "stdout",
          "text": [
            "[ 1  2  3  4  5  6  7  8  9 10]\n"
          ]
        }
      ]
    },
    {
      "cell_type": "code",
      "source": [
        "# Crie um array NumPy bidimensional 3x3 preenchido com zeros.\n",
        "x = np.zeros((3,3))\n",
        "print(x)"
      ],
      "metadata": {
        "colab": {
          "base_uri": "https://localhost:8080/"
        },
        "id": "F0pD_38DhN9i",
        "outputId": "bde16faf-6f6f-4f45-f308-2e7fb26b1d8b"
      },
      "execution_count": 197,
      "outputs": [
        {
          "output_type": "stream",
          "name": "stdout",
          "text": [
            "[[0. 0. 0.]\n",
            " [0. 0. 0.]\n",
            " [0. 0. 0.]]\n"
          ]
        }
      ]
    },
    {
      "cell_type": "code",
      "source": [
        "# Crie um array NumPy bidimensional 4x4 preenchido com uns.\n",
        "x = np.ones((4,4))\n",
        "print(x)"
      ],
      "metadata": {
        "colab": {
          "base_uri": "https://localhost:8080/"
        },
        "id": "L3cniS52hOYH",
        "outputId": "0f865de8-0900-4f29-f55f-79c98d1df568"
      },
      "execution_count": 198,
      "outputs": [
        {
          "output_type": "stream",
          "name": "stdout",
          "text": [
            "[[1. 1. 1. 1.]\n",
            " [1. 1. 1. 1.]\n",
            " [1. 1. 1. 1.]\n",
            " [1. 1. 1. 1.]]\n"
          ]
        }
      ]
    },
    {
      "cell_type": "code",
      "source": [
        "# Crie um array NumPy com 20 valores aleatórios entre 0 e 100.\n",
        "# Função randint é específica para geração de números inteiros aleatórios.\n",
        "x = np.random.randint(0,101,20)\n",
        "print(x)"
      ],
      "metadata": {
        "colab": {
          "base_uri": "https://localhost:8080/"
        },
        "id": "zpArz_4YhQgK",
        "outputId": "1ee5ee27-84f7-4bdf-fde2-a2705f763899"
      },
      "execution_count": 203,
      "outputs": [
        {
          "output_type": "stream",
          "name": "stdout",
          "text": [
            "[82 53 15 14 50 61 78 26 96 40 94 35 28 88 25 45 77 73 37 26]\n"
          ]
        }
      ]
    },
    {
      "cell_type": "code",
      "source": [
        "# Crie um array NumPy unidimensional com espaçamento de 0.5 entre 0 e 10.\n",
        "x = np.arange(0,10, 0.5)\n",
        "print(x)"
      ],
      "metadata": {
        "colab": {
          "base_uri": "https://localhost:8080/"
        },
        "id": "bTG3XsLFhQjX",
        "outputId": "5a534e72-e982-48f6-e1be-fe0b0242fcdb"
      },
      "execution_count": 207,
      "outputs": [
        {
          "output_type": "stream",
          "name": "stdout",
          "text": [
            "[0.  0.5 1.  1.5 2.  2.5 3.  3.5 4.  4.5 5.  5.5 6.  6.5 7.  7.5 8.  8.5\n",
            " 9.  9.5]\n"
          ]
        }
      ]
    },
    {
      "cell_type": "code",
      "source": [
        "# Crie um array NumPy bidimensional 5x5 com valores aleatórios inteiros entre 1 e 100.\n",
        "# Obs: Neste caso precisamos definir o tamanho\n",
        "x = np.random.randint(1,101,size=(5, 5))\n",
        "print(x)"
      ],
      "metadata": {
        "colab": {
          "base_uri": "https://localhost:8080/"
        },
        "id": "xIGBDKNMhQnR",
        "outputId": "1cd3c2a2-30e9-4e54-88ec-88d6c643fc74"
      },
      "execution_count": 209,
      "outputs": [
        {
          "output_type": "stream",
          "name": "stdout",
          "text": [
            "[[82 89 97 16 60]\n",
            " [95 70 79 77 31]\n",
            " [59 51 98 72 37]\n",
            " [74 25 10 51 76]\n",
            " [93 19 80 57 69]]\n"
          ]
        }
      ]
    },
    {
      "cell_type": "code",
      "source": [
        "# Dada a matriz A = [[1, 2, 3], [4, 5, 6], [7, 8, 9]], crie um array NumPy contendo apenas a segunda coluna da matriz A.\n",
        "A = np.array([[1, 2, 3], [4, 5, 6], [7, 8, 9]])\n",
        "A = A[:,1]\n",
        "print(A)"
      ],
      "metadata": {
        "colab": {
          "base_uri": "https://localhost:8080/"
        },
        "id": "_J-I6xfFhQqo",
        "outputId": "9fcf5a4e-b139-4f21-ee9b-2c97b3426fa1"
      },
      "execution_count": 218,
      "outputs": [
        {
          "output_type": "stream",
          "name": "stdout",
          "text": [
            "[2 5 8]\n"
          ]
        }
      ]
    },
    {
      "cell_type": "code",
      "source": [
        "# Dado o array NumPy x = [1, 2, 3, 4, 5], crie um novo array onde todos os valores pares sejam substituídos por -1.\n",
        "x = np.array([1, 2, 3, 4, 5])\n",
        "# Condição para encontrar os elementos pares\n",
        "y = np.where(x % 2 == 0, -1, x)\n",
        "print(y)\n"
      ],
      "metadata": {
        "colab": {
          "base_uri": "https://localhost:8080/"
        },
        "id": "kvvr0B2uhQtn",
        "outputId": "87cf170e-7fd4-4dd6-82eb-96a6759ac592"
      },
      "execution_count": 220,
      "outputs": [
        {
          "output_type": "stream",
          "name": "stdout",
          "text": [
            "[ 1 -1  3 -1  5]\n"
          ]
        }
      ]
    },
    {
      "cell_type": "code",
      "source": [
        "# Dado o array NumPy x = [1, 2, 3, 4, 5], crie um novo array onde todos os valores maiores que 2 sejam substituídos por 0.\n",
        "x = np.array([1, 2, 3, 4, 5])\n",
        "# Condição maior que dois\n",
        "y = np.where(x > 2, 0, x)\n",
        "print(y)"
      ],
      "metadata": {
        "colab": {
          "base_uri": "https://localhost:8080/"
        },
        "id": "c8lqK6yIj2ls",
        "outputId": "a4fa02b5-6ca6-40ba-9c68-4eca20bc5c8d"
      },
      "execution_count": 221,
      "outputs": [
        {
          "output_type": "stream",
          "name": "stdout",
          "text": [
            "[1 2 0 0 0]\n"
          ]
        }
      ]
    },
    {
      "cell_type": "code",
      "source": [
        "# Dado o array NumPy x = [1, 2, 3, 4, 5], normalize os valores do array de forma que a soma seja igual a 1.\n",
        "x = np.array([1, 2, 3, 4, 5])\n",
        "# Normalize os valores para que a soma seja igual a 1\n",
        "y = x / np.sum(x)\n",
        "print(y)"
      ],
      "metadata": {
        "colab": {
          "base_uri": "https://localhost:8080/"
        },
        "id": "6UU2POL-j2qX",
        "outputId": "a31ea4d1-b92a-4796-d9fd-0348a67816ec"
      },
      "execution_count": 222,
      "outputs": [
        {
          "output_type": "stream",
          "name": "stdout",
          "text": [
            "[0.06666667 0.13333333 0.2        0.26666667 0.33333333]\n"
          ]
        }
      ]
    },
    {
      "cell_type": "code",
      "source": [
        "# Dada a matriz A = [[1, 2], [3, 4]] e a matriz B = [[5, 6], [7, 8]], calcule a multiplicação matricial entre A e B.\n",
        "A = np.array([[1, 2], [3, 4]])\n",
        "B = np.array([[5, 6], [7, 8]])\n",
        "\n",
        "print(np.dot(A,B))"
      ],
      "metadata": {
        "colab": {
          "base_uri": "https://localhost:8080/"
        },
        "id": "kkGOqk9YmGdr",
        "outputId": "6f071523-cbf2-482e-9af5-00ccbc9d6295"
      },
      "execution_count": 223,
      "outputs": [
        {
          "output_type": "stream",
          "name": "stdout",
          "text": [
            "[[19 22]\n",
            " [43 50]]\n"
          ]
        }
      ]
    },
    {
      "cell_type": "code",
      "source": [
        "# Dado o array NumPy x = [1, 2, 3], crie um novo array com os valores de x repetidos três vezes.\n",
        "x = np.array([1, 2, 3])\n",
        "x = np.tile(x,3)\n",
        "print(x)"
      ],
      "metadata": {
        "colab": {
          "base_uri": "https://localhost:8080/"
        },
        "id": "mPpHaw4BmN8T",
        "outputId": "d1e287d3-60d2-43ad-8d7d-d4f0908d4c3d"
      },
      "execution_count": 225,
      "outputs": [
        {
          "output_type": "stream",
          "name": "stdout",
          "text": [
            "[1 1 1 2 2 2 3 3 3]\n"
          ]
        }
      ]
    },
    {
      "cell_type": "code",
      "source": [
        "# Dado o array NumPy x = [1, 2, 3], crie um novo array com os valores de x repetidos lado a lado três vezes.\n",
        "x = np.array([1, 2, 3])\n",
        "# Concatenate é usada para concatenar dois ou mais arrays ao longo de um determinado eixo.\n",
        "x = np.concatenate([x] * 3)\n",
        "print(x)"
      ],
      "metadata": {
        "colab": {
          "base_uri": "https://localhost:8080/"
        },
        "id": "CquF2orbmOEh",
        "outputId": "6b6d2644-19fd-4235-bf93-7f9926ee3d87"
      },
      "execution_count": 228,
      "outputs": [
        {
          "output_type": "stream",
          "name": "stdout",
          "text": [
            "[1 2 3 1 2 3 1 2 3]\n"
          ]
        }
      ]
    },
    {
      "cell_type": "code",
      "source": [
        "# Dado o array NumPy x = [1, 2, 3], crie um novo array com os valores de x repetidos verticalmente três vezes.\n",
        "x = np.array([1, 2, 3])\n",
        "x = np.repeat(x,3)\n",
        "print(x)"
      ],
      "metadata": {
        "colab": {
          "base_uri": "https://localhost:8080/"
        },
        "id": "N1qrdCUUmOM4",
        "outputId": "75e6bc3b-6deb-4c93-86fd-9d5725448121"
      },
      "execution_count": 229,
      "outputs": [
        {
          "output_type": "stream",
          "name": "stdout",
          "text": [
            "[1 1 1 2 2 2 3 3 3]\n"
          ]
        }
      ]
    },
    {
      "cell_type": "code",
      "source": [
        "# Dado o array NumPy x = [1, 2, 3], inverta a ordem dos elementos do array.\n",
        "x = np.array([1, 2, 3])\n",
        "x = x[::-1]\n",
        "print(x)"
      ],
      "metadata": {
        "colab": {
          "base_uri": "https://localhost:8080/"
        },
        "id": "ueDlSZfdmObb",
        "outputId": "5126624b-fc0d-4b45-8fff-d606f7d0f20c"
      },
      "execution_count": 232,
      "outputs": [
        {
          "output_type": "stream",
          "name": "stdout",
          "text": [
            "[3 2 1]\n"
          ]
        }
      ]
    }
  ]
}